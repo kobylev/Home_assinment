{
 "cells": [
  {
   "cell_type": "markdown",
   "metadata": {},
   "source": [
    "# Overlapping Groups Statistical Analysis\n",
    "## Computational Statistics Assignment\n",
    "\n",
    "This notebook implements a solution for the overlapping groups assignment, demonstrating concepts from Maximum Likelihood Estimation (MLE) and Gaussian Mixture Models (GMM)."
   ]
  },
  {
   "cell_type": "markdown",
   "metadata": {},
   "source": [
    "## 1. Setup and Imports"
   ]
  },
  {
   "cell_type": "code",
   "execution_count": 1,
   "metadata": {},
   "outputs": [
    {
     "name": "stdout",
     "output_type": "stream",
     "text": [
      "✓ Libraries imported successfully\n"
     ]
    }
   ],
   "source": [
    "import numpy as np\n",
    "import pandas as pd\n",
    "import matplotlib.pyplot as plt\n",
    "from matplotlib.patches import Circle\n",
    "\n",
    "# Set random seed for reproducibility\n",
    "np.random.seed(42)\n",
    "\n",
    "print(\"✓ Libraries imported successfully\")"
   ]
  },
  {
   "cell_type": "markdown",
   "metadata": {},
   "source": [
    "## 2. Point Distribution Design\n",
    "\n",
    "We need to create three overlapping groups with the following constraints:\n",
    "- Each group has exactly 2,000 points\n",
    "- Approximately 1/3 of each group (≈667 points) must be in the central intersection (A ∩ B ∩ C)"
   ]
  },
  {
   "cell_type": "code",
   "execution_count": 2,
   "metadata": {},
   "outputs": [
    {
     "name": "stdout",
     "output_type": "stream",
     "text": [
      "Point Distribution:\n",
      " Region  Points\n",
      " A_only     700\n",
      " B_only     733\n",
      " C_only     700\n",
      "AB_only     300\n",
      "AC_only     333\n",
      "BC_only     300\n",
      "    ABC     667\n",
      "\n",
      "Total Unique Points: 3733\n",
      "\n",
      "Group Totals:\n",
      "  Group A: 2000 points\n",
      "  Group B: 2000 points\n",
      "  Group C: 2000 points\n",
      "\n",
      "ABC Intersection: 667 points (33.35% of each group)\n"
     ]
    }
   ],
   "source": [
    "# Point distribution across regions\n",
    "distribution = {\n",
    "    'A_only': 700,\n",
    "    'B_only': 733,\n",
    "    'C_only': 700,\n",
    "    'AB_only': 300,\n",
    "    'AC_only': 333,\n",
    "    'BC_only': 300,\n",
    "    'ABC': 667\n",
    "}\n",
    "\n",
    "# Display distribution\n",
    "df_dist = pd.DataFrame(list(distribution.items()), columns=['Region', 'Points'])\n",
    "print(\"Point Distribution:\")\n",
    "print(df_dist.to_string(index=False))\n",
    "print(f\"\\nTotal Unique Points: {sum(distribution.values())}\")\n",
    "\n",
    "# Verify group totals\n",
    "group_A_total = distribution['A_only'] + distribution['AB_only'] + distribution['AC_only'] + distribution['ABC']\n",
    "group_B_total = distribution['B_only'] + distribution['AB_only'] + distribution['BC_only'] + distribution['ABC']\n",
    "group_C_total = distribution['C_only'] + distribution['AC_only'] + distribution['BC_only'] + distribution['ABC']\n",
    "\n",
    "print(f\"\\nGroup Totals:\")\n",
    "print(f\"  Group A: {group_A_total} points\")\n",
    "print(f\"  Group B: {group_B_total} points\")\n",
    "print(f\"  Group C: {group_C_total} points\")\n",
    "print(f\"\\nABC Intersection: {distribution['ABC']} points ({distribution['ABC']/2000*100:.2f}% of each group)\")"
   ]
  },
  {
   "cell_type": "markdown",
   "metadata": {},
   "source": [
    "## 3. Data Generation\n",
    "\n",
    "Each region is assigned values from different Gaussian distributions. Overlapping regions have intermediate characteristics."
   ]
  },
  {
   "cell_type": "code",
   "execution_count": 3,
   "metadata": {},
   "outputs": [
    {
     "name": "stdout",
     "output_type": "stream",
     "text": [
      "✓ Data generated for all regions\n",
      "\n",
      "Generative Parameters:\n",
      "  A only:     N(μ=10,   σ²=4)\n",
      "  B only:     N(μ=15,   σ²=6.25)\n",
      "  C only:     N(μ=20,   σ²=9)\n",
      "  A ∩ B:      N(μ=12.5, σ²=4)\n",
      "  A ∩ C:      N(μ=15,   σ²=6.25)\n",
      "  B ∩ C:      N(μ=17.5, σ²=6.25)\n",
      "  A ∩ B ∩ C:  N(μ=15,   σ²=4)\n"
     ]
    }
   ],
   "source": [
    "# Generate data with different Gaussian distributions for each region\n",
    "data = {\n",
    "    'A_only': np.random.normal(loc=10, scale=2, size=distribution['A_only']),\n",
    "    'B_only': np.random.normal(loc=15, scale=2.5, size=distribution['B_only']),\n",
    "    'C_only': np.random.normal(loc=20, scale=3, size=distribution['C_only']),\n",
    "    'AB_only': np.random.normal(loc=12.5, scale=2, size=distribution['AB_only']),\n",
    "    'AC_only': np.random.normal(loc=15, scale=2.5, size=distribution['AC_only']),\n",
    "    'BC_only': np.random.normal(loc=17.5, scale=2.5, size=distribution['BC_only']),\n",
    "    'ABC': np.random.normal(loc=15, scale=2, size=distribution['ABC'])\n",
    "}\n",
    "\n",
    "print(\"✓ Data generated for all regions\")\n",
    "print(\"\\nGenerative Parameters:\")\n",
    "print(\"  A only:     N(μ=10,   σ²=4)\")\n",
    "print(\"  B only:     N(μ=15,   σ²=6.25)\")\n",
    "print(\"  C only:     N(μ=20,   σ²=9)\")\n",
    "print(\"  A ∩ B:      N(μ=12.5, σ²=4)\")\n",
    "print(\"  A ∩ C:      N(μ=15,   σ²=6.25)\")\n",
    "print(\"  B ∩ C:      N(μ=17.5, σ²=6.25)\")\n",
    "print(\"  A ∩ B ∩ C:  N(μ=15,   σ²=4)\")"
   ]
  },
  {
   "cell_type": "markdown",
   "metadata": {},
   "source": [
    "## 4. Combine Data into Groups\n",
    "\n",
    "Combine the regional data into three groups based on set membership."
   ]
  },
  {
   "cell_type": "code",
   "execution_count": 4,
   "metadata": {},
   "outputs": [
    {
     "name": "stdout",
     "output_type": "stream",
     "text": [
      "✓ Groups combined\n",
      "  Group A size: 2000\n",
      "  Group B size: 2000\n",
      "  Group C size: 2000\n"
     ]
    }
   ],
   "source": [
    "# Combine data for each group\n",
    "group_A = np.concatenate([data['A_only'], data['AB_only'], data['AC_only'], data['ABC']])\n",
    "group_B = np.concatenate([data['B_only'], data['AB_only'], data['BC_only'], data['ABC']])\n",
    "group_C = np.concatenate([data['C_only'], data['AC_only'], data['BC_only'], data['ABC']])\n",
    "\n",
    "print(f\"✓ Groups combined\")\n",
    "print(f\"  Group A size: {len(group_A)}\")\n",
    "print(f\"  Group B size: {len(group_B)}\")\n",
    "print(f\"  Group C size: {len(group_C)}\")"
   ]
  },
  {
   "cell_type": "markdown",
   "metadata": {},
   "source": [
    "## 5. Statistical Analysis (MLE Estimators)\n",
    "\n",
    "Calculate Maximum Likelihood Estimators for mean and variance:\n",
    "\n",
    "**Mean estimator:**\n",
    "$$\\hat{\\mu} = \\frac{1}{n} \\sum_{i=1}^{n} x_i$$\n",
    "\n",
    "**Variance estimator (unbiased):**\n",
    "$$\\hat{\\sigma}^2 = \\frac{1}{n-1} \\sum_{i=1}^{n} (x_i - \\hat{\\mu})^2$$"
   ]
  },
  {
   "cell_type": "code",
   "execution_count": 5,
   "metadata": {},
   "outputs": [
    {
     "name": "stdout",
     "output_type": "stream",
     "text": [
      "\n",
      "============================================================\n",
      "GROUP STATISTICS (MLE Estimators)\n",
      "============================================================\n",
      "              n       mean   variance       std\n",
      "Group A  2000.0  12.931276   9.856295  3.139474\n",
      "Group B  2000.0  15.063923   6.918972  2.630394\n",
      "Group C  2000.0  17.185822  11.581325  3.403135\n",
      "\n",
      "✓ Statistics saved to 'group_statistics.csv'\n"
     ]
    }
   ],
   "source": [
    "# Calculate statistics for each group\n",
    "stats = {\n",
    "    'Group A': {\n",
    "        'n': len(group_A),\n",
    "        'mean': np.mean(group_A),\n",
    "        'variance': np.var(group_A, ddof=1),\n",
    "        'std': np.std(group_A, ddof=1)\n",
    "    },\n",
    "    'Group B': {\n",
    "        'n': len(group_B),\n",
    "        'mean': np.mean(group_B),\n",
    "        'variance': np.var(group_B, ddof=1),\n",
    "        'std': np.std(group_B, ddof=1)\n",
    "    },\n",
    "    'Group C': {\n",
    "        'n': len(group_C),\n",
    "        'mean': np.mean(group_C),\n",
    "        'variance': np.var(group_C, ddof=1),\n",
    "        'std': np.std(group_C, ddof=1)\n",
    "    }\n",
    "}\n",
    "\n",
    "# Display statistics\n",
    "stats_df = pd.DataFrame(stats).T\n",
    "print(\"\\n\" + \"=\"*60)\n",
    "print(\"GROUP STATISTICS (MLE Estimators)\")\n",
    "print(\"=\"*60)\n",
    "print(stats_df.to_string())\n",
    "\n",
    "# Save to CSV\n",
    "stats_df.to_csv('group_statistics.csv')\n",
    "print(\"\\n✓ Statistics saved to 'group_statistics.csv'\")"
   ]
  },
  {
   "cell_type": "markdown",
   "metadata": {},
   "source": "## 6. Visualization: Venn Diagram with Actual Points\n\nIn this visualization, we plot the actual data points within each region of the Venn diagram:\n- **Lighter circle colors**: Softer pastel shades for better aesthetics\n- **Scatter points**: Each tiny dot represents a data point in that region\n- **Color coding by region**:\n  - Dark red: A only\n  - Dark blue: B only\n  - Dark green: C only\n  - Purple: A ∩ B\n  - Brown: A ∩ C\n  - Teal: B ∩ C\n  - Black: A ∩ B ∩ C (center, 667 points)\n- **White-background labels**: Clear numerical counts for each region"
  },
  {
   "cell_type": "code",
   "execution_count": null,
   "metadata": {},
   "outputs": [],
   "source": "# Create Venn diagram with actual data points\nfig, ax = plt.subplots(figsize=(12, 10))\n\n# Draw three circles with lighter colors\ncircle_A = Circle((0.35, 0.5), 0.3, color='#FFB3B3', alpha=0.5, label='Group A')  # Light red\ncircle_B = Circle((0.65, 0.5), 0.3, color='#B3C7FF', alpha=0.5, label='Group B')  # Light blue\ncircle_C = Circle((0.5, 0.25), 0.3, color='#B3FFB3', alpha=0.5, label='Group C')  # Light green\n\nax.add_patch(circle_A)\nax.add_patch(circle_B)\nax.add_patch(circle_C)\n\n# Function to generate random points within a region\ndef generate_region_points(count, center_x, center_y, radius=0.12):\n    angles = np.random.uniform(0, 2*np.pi, count)\n    radii = np.random.uniform(0, radius, count)\n    x = center_x + radii * np.cos(angles)\n    y = center_y + radii * np.sin(angles)\n    return x, y\n\n# Reset seed for point placement\nnp.random.seed(42)\n\n# Plot points for each region with smaller dots\n# A only\nx, y = generate_region_points(distribution['A_only'], 0.20, 0.60)\nax.scatter(x, y, c='darkred', s=1, alpha=0.6, zorder=3)\n\n# B only\nx, y = generate_region_points(distribution['B_only'], 0.80, 0.60)\nax.scatter(x, y, c='darkblue', s=1, alpha=0.6, zorder=3)\n\n# C only\nx, y = generate_region_points(distribution['C_only'], 0.50, 0.10)\nax.scatter(x, y, c='darkgreen', s=1, alpha=0.6, zorder=3)\n\n# AB only\nx, y = generate_region_points(distribution['AB_only'], 0.50, 0.60)\nax.scatter(x, y, c='purple', s=1, alpha=0.6, zorder=3)\n\n# AC only\nx, y = generate_region_points(distribution['AC_only'], 0.35, 0.30)\nax.scatter(x, y, c='brown', s=1, alpha=0.6, zorder=3)\n\n# BC only\nx, y = generate_region_points(distribution['BC_only'], 0.65, 0.30)\nax.scatter(x, y, c='teal', s=1, alpha=0.6, zorder=3)\n\n# ABC (center intersection)\nx, y = generate_region_points(distribution['ABC'], 0.50, 0.42, radius=0.08)\nax.scatter(x, y, c='black', s=1, alpha=0.7, zorder=3)\n\n# Add labels for regions with point counts\nax.text(0.20, 0.75, '700', fontsize=14, fontweight='bold', ha='center',\n        bbox=dict(boxstyle='round', facecolor='white', alpha=0.8))\nax.text(0.80, 0.75, '733', fontsize=14, fontweight='bold', ha='center',\n        bbox=dict(boxstyle='round', facecolor='white', alpha=0.8))\nax.text(0.50, -0.02, '700', fontsize=14, fontweight='bold', ha='center',\n        bbox=dict(boxstyle='round', facecolor='white', alpha=0.8))\nax.text(0.50, 0.70, '300', fontsize=14, fontweight='bold', ha='center',\n        bbox=dict(boxstyle='round', facecolor='white', alpha=0.8))\nax.text(0.25, 0.28, '333', fontsize=14, fontweight='bold', ha='center',\n        bbox=dict(boxstyle='round', facecolor='white', alpha=0.8))\nax.text(0.75, 0.28, '300', fontsize=14, fontweight='bold', ha='center',\n        bbox=dict(boxstyle='round', facecolor='white', alpha=0.8))\nax.text(0.50, 0.42, '667', fontsize=14, fontweight='bold', ha='center',\n        bbox=dict(boxstyle='round', facecolor='yellow', alpha=0.9))\n\n# Calculate group totals\ngroup_A_total = distribution['A_only'] + distribution['AB_only'] + distribution['AC_only'] + distribution['ABC']\ngroup_B_total = distribution['B_only'] + distribution['AB_only'] + distribution['BC_only'] + distribution['ABC']\ngroup_C_total = distribution['C_only'] + distribution['AC_only'] + distribution['BC_only'] + distribution['ABC']\n\n# Add group labels with totals\nax.text(0.20, 0.85, f'Group A\\n({group_A_total} points)', fontsize=12, fontweight='bold',\n        ha='center', bbox=dict(boxstyle='round', facecolor='#FF6B6B', alpha=0.7))\nax.text(0.80, 0.85, f'Group B\\n({group_B_total} points)', fontsize=12, fontweight='bold',\n        ha='center', bbox=dict(boxstyle='round', facecolor='#6B9AFF', alpha=0.7))\nax.text(0.50, -0.10, f'Group C\\n({group_C_total} points)', fontsize=12, fontweight='bold',\n        ha='center', bbox=dict(boxstyle='round', facecolor='#6BFF6B', alpha=0.7))\n\nax.set_xlim(0, 1)\nax.set_ylim(-0.2, 1)\nax.set_aspect('equal')\nax.axis('off')\nax.set_title('Overlapping Groups - Point Distribution\\nTotal: 3,733 unique points | Each group: 2,000 points\\nABC intersection: 667 points (~33% of each group)',\n             fontsize=16, fontweight='bold', pad=20)\n\nplt.tight_layout()\nplt.savefig('venn_diagram.png', dpi=300, bbox_inches='tight')\nplt.show()\nprint(\"✓ Venn diagram saved to 'venn_diagram.png'\")"
  },
  {
   "cell_type": "markdown",
   "metadata": {},
   "source": [
    "## 7. Visualization: Distribution Histograms"
   ]
  },
  {
   "cell_type": "code",
   "execution_count": 7,
   "metadata": {},
   "outputs": [
    {
     "data": {
      "image/png": "[encoded data removed]",
      "text/plain": [
       "<Figure size 1500x400 with 3 Axes>"
      ]
     },
     "metadata": {},
     "output_type": "display_data"
    },
    {
     "name": "stdout",
     "output_type": "stream",
     "text": [
      "✓ Distribution histograms saved to 'distributions.png'\n"
     ]
    }
   ],
   "source": [
    "# Create distribution histograms\n",
    "fig, axes = plt.subplots(1, 3, figsize=(15, 4))\n",
    "\n",
    "# Group A\n",
    "axes[0].hist(group_A, bins=30, color='red', alpha=0.7, edgecolor='black')\n",
    "axes[0].axvline(stats['Group A']['mean'], color='darkred', linestyle='--',\n",
    "                linewidth=2, label=f\"μ̂ = {stats['Group A']['mean']:.2f}\")\n",
    "axes[0].set_title('Group A Distribution', fontweight='bold', fontsize=14)\n",
    "axes[0].set_xlabel('Value', fontsize=12)\n",
    "axes[0].set_ylabel('Frequency', fontsize=12)\n",
    "axes[0].legend(fontsize=11)\n",
    "axes[0].grid(alpha=0.3)\n",
    "\n",
    "# Group B\n",
    "axes[1].hist(group_B, bins=30, color='blue', alpha=0.7, edgecolor='black')\n",
    "axes[1].axvline(stats['Group B']['mean'], color='darkblue', linestyle='--',\n",
    "                linewidth=2, label=f\"μ̂ = {stats['Group B']['mean']:.2f}\")\n",
    "axes[1].set_title('Group B Distribution', fontweight='bold', fontsize=14)\n",
    "axes[1].set_xlabel('Value', fontsize=12)\n",
    "axes[1].set_ylabel('Frequency', fontsize=12)\n",
    "axes[1].legend(fontsize=11)\n",
    "axes[1].grid(alpha=0.3)\n",
    "\n",
    "# Group C\n",
    "axes[2].hist(group_C, bins=30, color='green', alpha=0.7, edgecolor='black')\n",
    "axes[2].axvline(stats['Group C']['mean'], color='darkgreen', linestyle='--',\n",
    "                linewidth=2, label=f\"μ̂ = {stats['Group C']['mean']:.2f}\")\n",
    "axes[2].set_title('Group C Distribution', fontweight='bold', fontsize=14)\n",
    "axes[2].set_xlabel('Value', fontsize=12)\n",
    "axes[2].set_ylabel('Frequency', fontsize=12)\n",
    "axes[2].legend(fontsize=11)\n",
    "axes[2].grid(alpha=0.3)\n",
    "\n",
    "plt.tight_layout()\n",
    "plt.savefig('distributions.png', dpi=300, bbox_inches='tight')\n",
    "plt.show()\n",
    "print(\"✓ Distribution histograms saved to 'distributions.png'\")"
   ]
  },
  {
   "cell_type": "markdown",
   "metadata": {},
   "source": [
    "## 8. Connection to MLE and GMM\n",
    "\n",
    "### Maximum Likelihood Estimation (MLE)\n",
    "\n",
    "For each group, we computed MLE estimators assuming Gaussian distributions:\n",
    "\n",
    "- **Unbiased**: Using Bessel's correction (n-1) for variance\n",
    "- **Consistent**: Converge to true parameters as n → ∞\n",
    "- **Efficient**: Achieve minimum variance among unbiased estimators\n",
    "\n",
    "### Gaussian Mixture Models (GMM)\n",
    "\n",
    "This assignment structure mirrors a 3-component GMM:\n",
    "\n",
    "1. **Components**: Three Gaussian distributions (Groups A, B, C)\n",
    "2. **Mixing coefficients**: Equal weights (π_A = π_B = π_C = 1/3)\n",
    "3. **Overlapping memberships**: Points in intersections have membership in multiple components\n",
    "\n",
    "In a full GMM framework:\n",
    "- **E-step**: Compute responsibilities (posterior probabilities) for each point\n",
    "- **M-step**: Update μ̂, σ̂², and π using weighted MLE\n",
    "\n",
    "Our structure represents a simplified case with **known memberships** (hard assignments), where parameters are directly identifiable via MLE.\n",
    "\n",
    "### Key Insight: The 1/3 Constraint\n",
    "\n",
    "Having **33% of each group in the central intersection** demonstrates:\n",
    "- **High mixture complexity**: Significant overlap between all components\n",
    "- **Parameter dependencies**: Shared points influence all three group statistics\n",
    "- **Identifiability challenges**: In unsupervised GMM, this level of overlap makes component separation difficult"
   ]
  },
  {
   "cell_type": "markdown",
   "metadata": {},
   "source": [
    "## 9. Save Data for Reproducibility"
   ]
  },
  {
   "cell_type": "code",
   "execution_count": 8,
   "metadata": {},
   "outputs": [
    {
     "name": "stdout",
     "output_type": "stream",
     "text": [
      "✓ Data saved to 'group_data.npz'\n",
      "\n",
      "All files generated:\n",
      "  - group_statistics.csv\n",
      "  - group_data.npz\n",
      "  - venn_diagram.png\n",
      "  - distributions.png\n"
     ]
    }
   ],
   "source": [
    "# Save raw data\n",
    "np.savez('group_data.npz',\n",
    "         group_A=group_A,\n",
    "         group_B=group_B,\n",
    "         group_C=group_C,\n",
    "         distribution=distribution)\n",
    "\n",
    "print(\"✓ Data saved to 'group_data.npz'\")\n",
    "print(\"\\nAll files generated:\")\n",
    "print(\"  - group_statistics.csv\")\n",
    "print(\"  - group_data.npz\")\n",
    "print(\"  - venn_diagram.png\")\n",
    "print(\"  - distributions.png\")"
   ]
  },
  {
   "cell_type": "markdown",
   "metadata": {},
   "source": [
    "## 10. Summary and Verification"
   ]
  },
  {
   "cell_type": "code",
   "execution_count": 9,
   "metadata": {},
   "outputs": [
    {
     "name": "stdout",
     "output_type": "stream",
     "text": [
      "============================================================\n",
      "CONSTRAINT VERIFICATION\n",
      "============================================================\n",
      "✓ Group A: 2000 points (expected: 2000)\n",
      "✓ Group B: 2000 points (expected: 2000)\n",
      "✓ Group C: 2000 points (expected: 2000)\n",
      "✓ Total unique points: 3733 (3,733)\n",
      "✓ ABC intersection: 667 points (33.35% of each group)\n",
      "✓ All groups overlap with each other\n",
      "\n",
      "All constraints satisfied! ✓\n"
     ]
    }
   ],
   "source": [
    "print(\"=\"*60)\n",
    "print(\"CONSTRAINT VERIFICATION\")\n",
    "print(\"=\"*60)\n",
    "print(f\"✓ Group A: {len(group_A)} points (expected: 2000)\")\n",
    "print(f\"✓ Group B: {len(group_B)} points (expected: 2000)\")\n",
    "print(f\"✓ Group C: {len(group_C)} points (expected: 2000)\")\n",
    "print(f\"✓ Total unique points: {sum(distribution.values())} (3,733)\")\n",
    "print(f\"✓ ABC intersection: {distribution['ABC']} points ({distribution['ABC']/2000*100:.2f}% of each group)\")\n",
    "print(f\"✓ All groups overlap with each other\")\n",
    "print(\"\\nAll constraints satisfied! ✓\")"
   ]
  }
 ],
 "metadata": {
  "kernelspec": {
   "display_name": "Python 3",
   "language": "python",
   "name": "python3"
  },
  "language_info": {
   "codemirror_mode": {
    "name": "ipython",
    "version": 3
   },
   "file_extension": ".py",
   "mimetype": "text/x-python",
   "name": "python",
   "nbconvert_exporter": "python",
   "pygments_lexer": "ipython3",
   "version": "3.10.11"
  }
 },
 "nbformat": 4,
 "nbformat_minor": 4
}